{
 "cells": [
  {
   "cell_type": "code",
   "execution_count": 2,
   "metadata": {},
   "outputs": [],
   "source": [
    "import datetime"
   ]
  },
  {
   "cell_type": "code",
   "execution_count": 51,
   "metadata": {},
   "outputs": [],
   "source": [
    "import pandas as pd\n",
    "import numpy as np\n",
    "import matplotlib.pyplot as plt\n",
    "import h5py"
   ]
  },
  {
   "cell_type": "markdown",
   "metadata": {},
   "source": [
    "### Reading Data"
   ]
  },
  {
   "cell_type": "code",
   "execution_count": 52,
   "metadata": {},
   "outputs": [
    {
     "data": {
      "text/html": [
       "<div>\n",
       "<style scoped>\n",
       "    .dataframe tbody tr th:only-of-type {\n",
       "        vertical-align: middle;\n",
       "    }\n",
       "\n",
       "    .dataframe tbody tr th {\n",
       "        vertical-align: top;\n",
       "    }\n",
       "\n",
       "    .dataframe thead th {\n",
       "        text-align: right;\n",
       "    }\n",
       "</style>\n",
       "<table border=\"1\" class=\"dataframe\">\n",
       "  <thead>\n",
       "    <tr style=\"text-align: right;\">\n",
       "      <th></th>\n",
       "      <th>timestamp</th>\n",
       "      <th>open</th>\n",
       "      <th>high</th>\n",
       "      <th>low</th>\n",
       "      <th>close</th>\n",
       "      <th>volume</th>\n",
       "    </tr>\n",
       "  </thead>\n",
       "  <tbody>\n",
       "    <tr>\n",
       "      <th>0</th>\n",
       "      <td>1.721161e+12</td>\n",
       "      <td>65130.8</td>\n",
       "      <td>65130.8</td>\n",
       "      <td>65072.3</td>\n",
       "      <td>65113.8</td>\n",
       "      <td>149.297</td>\n",
       "    </tr>\n",
       "    <tr>\n",
       "      <th>1</th>\n",
       "      <td>1.721161e+12</td>\n",
       "      <td>65113.8</td>\n",
       "      <td>65113.9</td>\n",
       "      <td>65001.6</td>\n",
       "      <td>65058.4</td>\n",
       "      <td>115.384</td>\n",
       "    </tr>\n",
       "    <tr>\n",
       "      <th>2</th>\n",
       "      <td>1.721161e+12</td>\n",
       "      <td>65058.5</td>\n",
       "      <td>65073.9</td>\n",
       "      <td>64932.0</td>\n",
       "      <td>64946.7</td>\n",
       "      <td>230.388</td>\n",
       "    </tr>\n",
       "    <tr>\n",
       "      <th>3</th>\n",
       "      <td>1.721161e+12</td>\n",
       "      <td>64946.7</td>\n",
       "      <td>64960.0</td>\n",
       "      <td>64860.1</td>\n",
       "      <td>64926.3</td>\n",
       "      <td>264.300</td>\n",
       "    </tr>\n",
       "    <tr>\n",
       "      <th>4</th>\n",
       "      <td>1.721161e+12</td>\n",
       "      <td>64926.3</td>\n",
       "      <td>64985.0</td>\n",
       "      <td>64904.1</td>\n",
       "      <td>64985.0</td>\n",
       "      <td>80.128</td>\n",
       "    </tr>\n",
       "  </tbody>\n",
       "</table>\n",
       "</div>"
      ],
      "text/plain": [
       "      timestamp     open     high      low    close   volume\n",
       "0  1.721161e+12  65130.8  65130.8  65072.3  65113.8  149.297\n",
       "1  1.721161e+12  65113.8  65113.9  65001.6  65058.4  115.384\n",
       "2  1.721161e+12  65058.5  65073.9  64932.0  64946.7  230.388\n",
       "3  1.721161e+12  64946.7  64960.0  64860.1  64926.3  264.300\n",
       "4  1.721161e+12  64926.3  64985.0  64904.1  64985.0   80.128"
      ]
     },
     "execution_count": 52,
     "metadata": {},
     "output_type": "execute_result"
    }
   ],
   "source": [
    "with h5py.File('../Data/Binance.h5') as file:\n",
    "    data = file.get('BTCUSDT')\n",
    "    data_array = np.array(data)\n",
    "    df = pd.DataFrame(data_array, columns=('timestamp', 'open', 'high', 'low', 'close', 'volume'))\n",
    "\n",
    "    file.close()\n",
    "\n",
    "df.head()"
   ]
  },
  {
   "cell_type": "markdown",
   "metadata": {},
   "source": [
    "### Date preprocessing \n"
   ]
  },
  {
   "cell_type": "code",
   "execution_count": 53,
   "metadata": {},
   "outputs": [
    {
     "data": {
      "text/html": [
       "<div>\n",
       "<style scoped>\n",
       "    .dataframe tbody tr th:only-of-type {\n",
       "        vertical-align: middle;\n",
       "    }\n",
       "\n",
       "    .dataframe tbody tr th {\n",
       "        vertical-align: top;\n",
       "    }\n",
       "\n",
       "    .dataframe thead th {\n",
       "        text-align: right;\n",
       "    }\n",
       "</style>\n",
       "<table border=\"1\" class=\"dataframe\">\n",
       "  <thead>\n",
       "    <tr style=\"text-align: right;\">\n",
       "      <th></th>\n",
       "      <th>open</th>\n",
       "      <th>high</th>\n",
       "      <th>low</th>\n",
       "      <th>close</th>\n",
       "      <th>volume</th>\n",
       "    </tr>\n",
       "    <tr>\n",
       "      <th>timestamp</th>\n",
       "      <th></th>\n",
       "      <th></th>\n",
       "      <th></th>\n",
       "      <th></th>\n",
       "      <th></th>\n",
       "    </tr>\n",
       "  </thead>\n",
       "  <tbody>\n",
       "    <tr>\n",
       "      <th>2024-06-26 00:18:00</th>\n",
       "      <td>61751.9</td>\n",
       "      <td>61774.0</td>\n",
       "      <td>61751.9</td>\n",
       "      <td>61752.4</td>\n",
       "      <td>24.654</td>\n",
       "    </tr>\n",
       "    <tr>\n",
       "      <th>2024-06-26 00:19:00</th>\n",
       "      <td>61752.4</td>\n",
       "      <td>61758.7</td>\n",
       "      <td>61752.4</td>\n",
       "      <td>61756.4</td>\n",
       "      <td>25.549</td>\n",
       "    </tr>\n",
       "    <tr>\n",
       "      <th>2024-06-26 00:20:00</th>\n",
       "      <td>61756.4</td>\n",
       "      <td>61772.7</td>\n",
       "      <td>61753.5</td>\n",
       "      <td>61754.6</td>\n",
       "      <td>25.185</td>\n",
       "    </tr>\n",
       "    <tr>\n",
       "      <th>2024-06-26 00:21:00</th>\n",
       "      <td>61756.4</td>\n",
       "      <td>61773.2</td>\n",
       "      <td>61756.4</td>\n",
       "      <td>61758.1</td>\n",
       "      <td>10.424</td>\n",
       "    </tr>\n",
       "    <tr>\n",
       "      <th>2024-06-26 00:22:00</th>\n",
       "      <td>61758.0</td>\n",
       "      <td>61768.0</td>\n",
       "      <td>61752.2</td>\n",
       "      <td>61756.9</td>\n",
       "      <td>34.291</td>\n",
       "    </tr>\n",
       "  </tbody>\n",
       "</table>\n",
       "</div>"
      ],
      "text/plain": [
       "                        open     high      low    close  volume\n",
       "timestamp                                                      \n",
       "2024-06-26 00:18:00  61751.9  61774.0  61751.9  61752.4  24.654\n",
       "2024-06-26 00:19:00  61752.4  61758.7  61752.4  61756.4  25.549\n",
       "2024-06-26 00:20:00  61756.4  61772.7  61753.5  61754.6  25.185\n",
       "2024-06-26 00:21:00  61756.4  61773.2  61756.4  61758.1  10.424\n",
       "2024-06-26 00:22:00  61758.0  61768.0  61752.2  61756.9  34.291"
      ]
     },
     "execution_count": 53,
     "metadata": {},
     "output_type": "execute_result"
    }
   ],
   "source": [
    "df.sort_values(by='timestamp', inplace = True)\n",
    "df['timestamp'] = pd.to_datetime(df['timestamp'], unit='ms')\n",
    "df.set_index('timestamp', inplace=True)\n",
    "df.head()"
   ]
  },
  {
   "cell_type": "markdown",
   "metadata": {},
   "source": [
    "## Calculating VWAP"
   ]
  },
  {
   "cell_type": "code",
   "execution_count": 54,
   "metadata": {},
   "outputs": [],
   "source": [
    "df['price'] = (df['close'] + df['low'] + df['high']) / 3"
   ]
  },
  {
   "cell_type": "code",
   "execution_count": 55,
   "metadata": {},
   "outputs": [],
   "source": [
    "df['date'] = df.index.date"
   ]
  },
  {
   "cell_type": "code",
   "execution_count": 56,
   "metadata": {},
   "outputs": [],
   "source": [
    "df['volume_period'] = df.groupby(by=df.index.date)['volume'].sum()"
   ]
  },
  {
   "cell_type": "code",
   "execution_count": 57,
   "metadata": {},
   "outputs": [],
   "source": [
    "# forward fill to identify the dates that are incomplete\n",
    "df['volume_period'] = df['volume_period'].ffill()\n",
    "\n",
    "# The NaN values remaining are dates that are incomplete\n",
    "df.dropna(inplace=True)\n",
    "df.drop('date', axis = 1, inplace=True)"
   ]
  },
  {
   "cell_type": "code",
   "execution_count": 58,
   "metadata": {},
   "outputs": [],
   "source": [
    "df['price_volume'] = df['price'] * df['volume']"
   ]
  },
  {
   "cell_type": "code",
   "execution_count": 59,
   "metadata": {},
   "outputs": [],
   "source": [
    "df['VWAP'] = (df['price_volume'].cumsum()) / df['volume_period']"
   ]
  },
  {
   "cell_type": "code",
   "execution_count": 60,
   "metadata": {},
   "outputs": [
    {
     "data": {
      "text/html": [
       "<div>\n",
       "<style scoped>\n",
       "    .dataframe tbody tr th:only-of-type {\n",
       "        vertical-align: middle;\n",
       "    }\n",
       "\n",
       "    .dataframe tbody tr th {\n",
       "        vertical-align: top;\n",
       "    }\n",
       "\n",
       "    .dataframe thead th {\n",
       "        text-align: right;\n",
       "    }\n",
       "</style>\n",
       "<table border=\"1\" class=\"dataframe\">\n",
       "  <thead>\n",
       "    <tr style=\"text-align: right;\">\n",
       "      <th></th>\n",
       "      <th>open</th>\n",
       "      <th>high</th>\n",
       "      <th>low</th>\n",
       "      <th>close</th>\n",
       "      <th>volume</th>\n",
       "      <th>price</th>\n",
       "      <th>volume_period</th>\n",
       "      <th>price_volume</th>\n",
       "      <th>VWAP</th>\n",
       "    </tr>\n",
       "    <tr>\n",
       "      <th>timestamp</th>\n",
       "      <th></th>\n",
       "      <th></th>\n",
       "      <th></th>\n",
       "      <th></th>\n",
       "      <th></th>\n",
       "      <th></th>\n",
       "      <th></th>\n",
       "      <th></th>\n",
       "      <th></th>\n",
       "    </tr>\n",
       "  </thead>\n",
       "  <tbody>\n",
       "    <tr>\n",
       "      <th>2024-06-27 00:00:00</th>\n",
       "      <td>60860.1</td>\n",
       "      <td>60870.0</td>\n",
       "      <td>60833.5</td>\n",
       "      <td>60835.1</td>\n",
       "      <td>68.927</td>\n",
       "      <td>60846.200000</td>\n",
       "      <td>160172.482</td>\n",
       "      <td>4.193946e+06</td>\n",
       "      <td>26.183936</td>\n",
       "    </tr>\n",
       "    <tr>\n",
       "      <th>2024-06-27 00:01:00</th>\n",
       "      <td>60835.2</td>\n",
       "      <td>60835.2</td>\n",
       "      <td>60809.8</td>\n",
       "      <td>60809.8</td>\n",
       "      <td>43.844</td>\n",
       "      <td>60818.266667</td>\n",
       "      <td>160172.482</td>\n",
       "      <td>2.666516e+06</td>\n",
       "      <td>42.831715</td>\n",
       "    </tr>\n",
       "    <tr>\n",
       "      <th>2024-06-27 00:02:00</th>\n",
       "      <td>60809.9</td>\n",
       "      <td>60822.5</td>\n",
       "      <td>60804.6</td>\n",
       "      <td>60813.4</td>\n",
       "      <td>93.540</td>\n",
       "      <td>60813.500000</td>\n",
       "      <td>160172.482</td>\n",
       "      <td>5.688495e+06</td>\n",
       "      <td>78.346522</td>\n",
       "    </tr>\n",
       "    <tr>\n",
       "      <th>2024-06-27 00:03:00</th>\n",
       "      <td>60813.4</td>\n",
       "      <td>60887.1</td>\n",
       "      <td>60813.4</td>\n",
       "      <td>60885.9</td>\n",
       "      <td>69.652</td>\n",
       "      <td>60862.133333</td>\n",
       "      <td>160172.482</td>\n",
       "      <td>4.239169e+06</td>\n",
       "      <td>104.812799</td>\n",
       "    </tr>\n",
       "    <tr>\n",
       "      <th>2024-06-27 00:04:00</th>\n",
       "      <td>60885.8</td>\n",
       "      <td>60899.6</td>\n",
       "      <td>60861.6</td>\n",
       "      <td>60867.5</td>\n",
       "      <td>266.464</td>\n",
       "      <td>60876.233333</td>\n",
       "      <td>160172.482</td>\n",
       "      <td>1.622132e+07</td>\n",
       "      <td>206.086904</td>\n",
       "    </tr>\n",
       "  </tbody>\n",
       "</table>\n",
       "</div>"
      ],
      "text/plain": [
       "                        open     high      low    close   volume  \\\n",
       "timestamp                                                          \n",
       "2024-06-27 00:00:00  60860.1  60870.0  60833.5  60835.1   68.927   \n",
       "2024-06-27 00:01:00  60835.2  60835.2  60809.8  60809.8   43.844   \n",
       "2024-06-27 00:02:00  60809.9  60822.5  60804.6  60813.4   93.540   \n",
       "2024-06-27 00:03:00  60813.4  60887.1  60813.4  60885.9   69.652   \n",
       "2024-06-27 00:04:00  60885.8  60899.6  60861.6  60867.5  266.464   \n",
       "\n",
       "                            price  volume_period  price_volume        VWAP  \n",
       "timestamp                                                                   \n",
       "2024-06-27 00:00:00  60846.200000     160172.482  4.193946e+06   26.183936  \n",
       "2024-06-27 00:01:00  60818.266667     160172.482  2.666516e+06   42.831715  \n",
       "2024-06-27 00:02:00  60813.500000     160172.482  5.688495e+06   78.346522  \n",
       "2024-06-27 00:03:00  60862.133333     160172.482  4.239169e+06  104.812799  \n",
       "2024-06-27 00:04:00  60876.233333     160172.482  1.622132e+07  206.086904  "
      ]
     },
     "execution_count": 60,
     "metadata": {},
     "output_type": "execute_result"
    }
   ],
   "source": [
    "df.head()"
   ]
  },
  {
   "cell_type": "markdown",
   "metadata": {},
   "source": [
    "#### Calculating the standard deviation lines\n"
   ]
  },
  {
   "cell_type": "code",
   "execution_count": 61,
   "metadata": {},
   "outputs": [],
   "source": [
    "df['variance'] = (((df['price'] - df['VWAP'])** 2) * df['volume']).cumsum()"
   ]
  },
  {
   "cell_type": "code",
   "execution_count": 62,
   "metadata": {},
   "outputs": [],
   "source": [
    "df['off'] = np.sqrt(df['variance'] / df['volume_period'])"
   ]
  },
  {
   "cell_type": "markdown",
   "metadata": {},
   "source": [
    "#### This will be how the lines of STD will be drawn on a graph\n",
    "    "
   ]
  },
  {
   "cell_type": "code",
   "execution_count": 63,
   "metadata": {},
   "outputs": [
    {
     "data": {
      "text/plain": [
       "[<matplotlib.lines.Line2D at 0x21efed0c860>]"
      ]
     },
     "execution_count": 63,
     "metadata": {},
     "output_type": "execute_result"
    },
    {
     "data": {
      "image/png": "[encoded data removed]",
      "text/plain": [
       "<Figure size 640x480 with 1 Axes>"
      ]
     },
     "metadata": {},
     "output_type": "display_data"
    }
   ],
   "source": [
    "# TB represents Top band\n",
    "# BB represents Bottom band\n",
    "\n",
    "plt.plot(df.index, (df['VWAP'] + 1.96 * df['off']),  label='TB1', color='b')\n",
    "plt.plot(df.index, (df['VWAP'] - 1.96 * df['off']),  label='BB1', color='b')\n",
    "plt.fill_between(df.index, (df['VWAP'] + 1.96 * df['off']), (df['VWAP'] - 1.96 * df['off']),\n",
    "                 color='b', alpha=0.3)\n",
    "\n",
    "plt.plot(df.index, (df['VWAP'] + 2 * 1.96 * df['off']),  label='TB2', color='b')\n",
    "plt.plot(df.index, (df['VWAP'] - 2 * 1.96 * df['off']),  label='BB2', color='b')\n",
    "plt.fill_between(df.index, (df['VWAP'] + 2 * 1.96 * df['off']), (df['VWAP'] - 2 * 1.96 * df['off']),\n",
    "                 color='b', alpha=0.2)\n",
    "\n",
    "plt.plot(df.index, (df['VWAP'] + 3 * 1.96 * df['off']),  label='TB3', color='b', linestyle= '--')\n",
    "plt.plot(df.index, (df['VWAP'] - 3 * 1.96 * df['off']),  label='BB3', color='b', linestyle= '--')\n",
    "\n",
    "plt.plot(df.index, (df['VWAP'] + 4 * 1.96 * df['off']),  label='TB4', color='b')\n",
    "plt.plot(df.index, (df['VWAP'] - 4 * 1.96 * df['off']),  label='BB4', color='b')\n",
    "\n",
    "plt.plot(df.index, df['VWAP'] ,  label='POC', color='r')\n",
    "# plt.legend()"
   ]
  },
  {
   "cell_type": "code",
   "execution_count": 30,
   "metadata": {},
   "outputs": [],
   "source": [
    "# The irregularities of the graph are due to the fact that the data contains a 30-day period, \n",
    "# and the graph shows the daily VWAPs (Volume Weighted Average Prices) for each day"
   ]
  }
 ],
 "metadata": {
  "kernelspec": {
   "display_name": "indicators",
   "language": "python",
   "name": "python3"
  },
  "language_info": {
   "codemirror_mode": {
    "name": "ipython",
    "version": 3
   },
   "file_extension": ".py",
   "mimetype": "text/x-python",
   "name": "python",
   "nbconvert_exporter": "python",
   "pygments_lexer": "ipython3",
   "version": "3.12.0"
  }
 },
 "nbformat": 4,
 "nbformat_minor": 2
}
